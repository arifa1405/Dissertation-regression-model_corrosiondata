{
 "cells": [
  {
   "cell_type": "code",
   "execution_count": null,
   "id": "a8b61eda",
   "metadata": {},
   "outputs": [],
   "source": [
    "# -------------------------------\n",
    "# 1. Imports and Dataset\n",
    "# -------------------------------\n",
    "import pandas as pd\n",
    "import numpy as np\n",
    "import matplotlib.pyplot as plt\n",
    "import seaborn as sns\n",
    "from sklearn.model_selection import train_test_split\n",
    "from sklearn.linear_model import LinearRegression"
   ]
  },
  {
   "cell_type": "code",
   "execution_count": null,
   "id": "46682c30",
   "metadata": {},
   "outputs": [],
   "source": [
    "# Load dataset\n",
    "df = pd.read_csv(\"DATA/corrosion_synthetic_timeseries.csv\")\n",
    "print(df.head())"
   ]
  },
  {
   "cell_type": "code",
   "execution_count": null,
   "id": "dd8864ed",
   "metadata": {},
   "outputs": [],
   "source": [
    "# Add pH² to capture U-shaped effect\n",
    "df[\"pH_squared\"] = df[\"pH\"]**2"
   ]
  },
  {
   "cell_type": "code",
   "execution_count": null,
   "id": "a4161f0d",
   "metadata": {},
   "outputs": [],
   "source": [
    "# Define features (5 original + derived pH²)\n",
    "features = [\"pH\",\"pH_squared\",\"temperature_C\",\"chloride_ppm\",\"dissolved_oxygen_mgL\",\"flow_velocity_mps\"]\n",
    "X = df[features]\n",
    "y = df[\"corrosion_rate_mm_per_yr\"]"
   ]
  },
  {
   "cell_type": "code",
   "execution_count": null,
   "id": "39cb10e5",
   "metadata": {},
   "outputs": [],
   "source": [
    "# -------------------------------\n",
    "# 2. Exploratory Data Analysis (EDA)\n",
    "# -------------------------------\n",
    "# Corrosion vs pH\n",
    "plt.scatter(df[\"pH\"], df[\"corrosion_rate_mm_per_yr\"])\n",
    "plt.xlabel(\"pH\")\n",
    "plt.ylabel(\"Corrosion Rate (mm/yr)\")\n",
    "plt.savefig(\"../images/corrosion_rate.png\", dpi=300, bbox_inches='tight')\n",
    "plt.show()"
   ]
  },
  {
   "cell_type": "code",
   "execution_count": null,
   "id": "998f42f9",
   "metadata": {},
   "outputs": [],
   "source": [
    "# Corrosion vs Temperature\n",
    "plt.scatter(df[\"temperature_C\"], df[\"corrosion_rate_mm_per_yr\"])\n",
    "plt.xlabel(\"Temperature (°C)\")\n",
    "plt.ylabel(\"Corrosion Rate (mm/yr)\")\n",
    "plt.savefig(\"../images/corrosion_vs_temp.png\", dpi=300, bbox_inches='tight')\n",
    "plt.show()"
   ]
  },
  {
   "cell_type": "code",
   "execution_count": null,
   "id": "fc540c3b",
   "metadata": {},
   "outputs": [],
   "source": [
    "# Correlation matrix\n",
    "corr = df.corr(numeric_only=True)\n",
    "sns.heatmap(corr, annot=True, cmap=\"coolwarm\")\n",
    "plt.savefig(\"../images/correlation_matrix.png\", dpi=300, bbox_inches='tight')\n",
    "plt.show()"
   ]
  },
  {
   "cell_type": "code",
   "execution_count": null,
   "id": "bbfdf9a0",
   "metadata": {},
   "outputs": [],
   "source": [
    "# -------------------------------\n",
    "# 3. Regression Model with pH²\n",
    "# -------------------------------\n",
    "X_train, X_test, y_train, y_test = train_test_split(X, y, test_size=0.2, random_state=42)"
   ]
  },
  {
   "cell_type": "code",
   "execution_count": null,
   "id": "434341d9",
   "metadata": {},
   "outputs": [],
   "source": [
    "model = LinearRegression()\n",
    "model.fit(X_train, y_train)"
   ]
  },
  {
   "cell_type": "code",
   "execution_count": null,
   "id": "65c2818f",
   "metadata": {},
   "outputs": [],
   "source": [
    "print(\"Coefficients:\", model.coef_)\n",
    "print(\"Intercept:\", model.intercept_)\n",
    "print(\"R² score:\", model.score(X_test, y_test))"
   ]
  },
  {
   "cell_type": "code",
   "execution_count": null,
   "id": "b4d6d3f6",
   "metadata": {},
   "outputs": [],
   "source": [
    "# -------------------------------\n",
    "# 4. Diagnostics\n",
    "# -------------------------------\n",
    "# Predicted vs Actual\n",
    "y_pred = model.predict(X_test)\n",
    "plt.scatter(y_test, y_pred, alpha=0.6)\n",
    "plt.xlabel(\"Actual Corrosion Rate (mm/yr)\")\n",
    "plt.ylabel(\"Predicted Corrosion Rate (mm/yr)\")\n",
    "plt.title(\"Regression: Predicted vs Actual\")\n",
    "plt.plot([y_test.min(), y_test.max()],\n",
    "         [y_test.min(), y_test.max()],\n",
    "         'r--')\n",
    "plt.savefig(\"../images/predicted_Vs_Actual.png\", dpi=300, bbox_inches='tight')\n",
    "plt.show()"
   ]
  },
  {
   "cell_type": "code",
   "execution_count": null,
   "id": "33f60c8c",
   "metadata": {},
   "outputs": [],
   "source": [
    "# Residual plot\n",
    "residuals = y_test - y_pred\n",
    "plt.scatter(y_pred, residuals, alpha=0.6)\n",
    "plt.axhline(0, color='red', linestyle='--')\n",
    "plt.xlabel(\"Predicted Corrosion Rate\")\n",
    "plt.ylabel(\"Residuals (Actual - Predicted)\")\n",
    "plt.title(\"Residuals Plot\")\n",
    "plt.savefig(\"../images/residual_plot.png\", dpi=300, bbox_inches='tight')\n",
    "plt.show()"
   ]
  },
  {
   "cell_type": "code",
   "execution_count": null,
   "id": "9138935b",
   "metadata": {},
   "outputs": [],
   "source": [
    "# -------------------------------\n",
    "# 5. Partial Effects\n",
    "# -------------------------------\n",
    "baseline = X_train.median().to_dict()"
   ]
  },
  {
   "cell_type": "code",
   "execution_count": null,
   "id": "a92989db",
   "metadata": {},
   "outputs": [],
   "source": [
    "# Partial Effect of pH\n",
    "ph_grid = np.linspace(df[\"pH\"].min(), df[\"pH\"].max(), 80)\n",
    "rows = []\n",
    "for ph in ph_grid:\n",
    "    r = baseline.copy()\n",
    "    r[\"pH\"] = ph\n",
    "    r[\"pH_squared\"] = ph**2\n",
    "    rows.append(r)"
   ]
  },
  {
   "cell_type": "code",
   "execution_count": null,
   "id": "0460ea8f",
   "metadata": {},
   "outputs": [],
   "source": [
    "grid_df = pd.DataFrame(rows)[features]\n",
    "yhat = model.predict(grid_df)"
   ]
  },
  {
   "cell_type": "code",
   "execution_count": null,
   "id": "0afcaffc",
   "metadata": {},
   "outputs": [],
   "source": [
    "plt.figure(figsize=(7,5))\n",
    "plt.plot(ph_grid, yhat, color=\"blue\")\n",
    "plt.xlabel(\"pH (others fixed at median)\")\n",
    "plt.ylabel(\"Predicted Corrosion Rate (mm/yr)\")\n",
    "plt.title(\"Partial Effect of pH on Corrosion Rate\")\n",
    "plt.grid(True)\n",
    "plt.savefig(\"../images/partial_effects_pH.png\", dpi=300, bbox_inches='tight')\n",
    "plt.show()"
   ]
  },
  {
   "cell_type": "code",
   "execution_count": null,
   "id": "d6994ebd",
   "metadata": {},
   "outputs": [],
   "source": [
    "# Partial effects of other variables\n",
    "variables = [\"temperature_C\",\"chloride_ppm\",\"dissolved_oxygen_mgL\",\"flow_velocity_mps\"]\n",
    "plt.figure(figsize=(12,8))"
   ]
  },
  {
   "cell_type": "code",
   "execution_count": null,
   "id": "723bdb4a",
   "metadata": {},
   "outputs": [],
   "source": [
    "for i, var in enumerate(variables, 1):\n",
    "    grid = np.linspace(df[var].min(), df[var].max(), 80)\n",
    "    rows = []\n",
    "    for val in grid:\n",
    "        r = baseline.copy()\n",
    "        r[var] = val\n",
    "        rows.append(r)\n",
    "    grid_df = pd.DataFrame(rows)[features]\n",
    "    yhat = model.predict(grid_df)\n",
    "\n",
    "    plt.subplot(2, 2, i)\n",
    "    plt.plot(grid, yhat, color=\"blue\")\n",
    "    plt.xlabel(var)\n",
    "    plt.ylabel(\"Predicted corrosion rate (mm/yr)\")\n",
    "    plt.title(f\"Effect of {var} on corrosion\")\n",
    "    plt.grid(True)"
   ]
  },
  {
   "cell_type": "code",
   "execution_count": null,
   "id": "7c7fdd86",
   "metadata": {},
   "outputs": [],
   "source": [
    "plt.tight_layout()\n",
    "plt.savefig(\"../images/partial_effects_other_variables.png\", dpi=300, bbox_inches='tight')\n",
    "plt.show()"
   ]
  },
  {
   "cell_type": "code",
   "execution_count": null,
   "id": "65a927de",
   "metadata": {},
   "outputs": [],
   "source": [
    "# -------------------------------\n",
    "# 6. Scenario Analysis with RUL\n",
    "# -------------------------------\n",
    "scenarios = [\n",
    "    {\"Scenario\": \"Seawater pipeline\", \"pH\": 8.0, \"temperature_C\": 30,\n",
    "     \"chloride_ppm\": 1000, \"dissolved_oxygen_mgL\": 6, \"flow_velocity_mps\": 1.0},\n",
    "    {\"Scenario\": \"Acidic soil\", \"pH\": 4.5, \"temperature_C\": 25,\n",
    "     \"chloride_ppm\": 200, \"dissolved_oxygen_mgL\": 3, \"flow_velocity_mps\": 0.5},\n",
    "    {\"Scenario\": \"Neutral freshwater\", \"pH\": 7.0, \"temperature_C\": 20,\n",
    "     \"chloride_ppm\": 50, \"dissolved_oxygen_mgL\": 8, \"flow_velocity_mps\": 0.3}\n",
    "]"
   ]
  },
  {
   "cell_type": "code",
   "execution_count": null,
   "id": "361a5d97",
   "metadata": {},
   "outputs": [],
   "source": [
    "allowable_loss = 1.0  # mm\n",
    "results = []\n",
    "for s in scenarios:\n",
    "    s[\"pH_squared\"] = s[\"pH\"]**2\n",
    "    X_scenario = pd.DataFrame([s])[features]  # enforce order\n",
    "    pred_rate = float(model.predict(X_scenario)[0])\n",
    "    pred_rate = max(0.0, pred_rate)  # clip negatives\n",
    "    RUL = (allowable_loss / pred_rate) if pred_rate > 0 else float(\"inf\")\n",
    "    results.append({\n",
    "        \"Scenario\": s[\"Scenario\"],\n",
    "        \"Predicted corrosion (mm/yr)\": round(pred_rate, 3),\n",
    "        \"Remaining Useful Life (years)\": (round(RUL, 1) if pred_rate > 0 else \"∞\")\n",
    "    })"
   ]
  },
  {
   "cell_type": "code",
   "execution_count": null,
   "id": "54ce7bc3",
   "metadata": {},
   "outputs": [],
   "source": [
    "results_df = pd.DataFrame(results)\n",
    "print(results_df.to_string(index=False))"
   ]
  },
  {
   "cell_type": "code",
   "execution_count": null,
   "id": "981c1b84",
   "metadata": {},
   "outputs": [],
   "source": [
    "# -------------------------------\n",
    "# 7. Heatmap: Temperature × Chloride\n",
    "# -------------------------------\n",
    "baseline = X_train.median().to_dict()"
   ]
  },
  {
   "cell_type": "code",
   "execution_count": null,
   "id": "eea39a75",
   "metadata": {},
   "outputs": [],
   "source": [
    "temp_grid = np.linspace(df[\"temperature_C\"].min(), df[\"temperature_C\"].max(), 50)\n",
    "cl_grid   = np.linspace(df[\"chloride_ppm\"].min(), df[\"chloride_ppm\"].max(), 50)"
   ]
  },
  {
   "cell_type": "code",
   "execution_count": null,
   "id": "c17ca037",
   "metadata": {},
   "outputs": [],
   "source": [
    "rows = []\n",
    "for t in temp_grid:\n",
    "    for cl in cl_grid:\n",
    "        r = baseline.copy()\n",
    "        r[\"temperature_C\"] = t\n",
    "        r[\"chloride_ppm\"] = cl\n",
    "        rows.append(r)"
   ]
  },
  {
   "cell_type": "code",
   "execution_count": null,
   "id": "04418c6f",
   "metadata": {},
   "outputs": [],
   "source": [
    "grid_df = pd.DataFrame(rows)[features]  # enforce order\n",
    "yhat = model.predict(grid_df)\n",
    "Z = yhat.reshape(len(temp_grid), len(cl_grid))"
   ]
  },
  {
   "cell_type": "code",
   "execution_count": null,
   "id": "d4b342a4",
   "metadata": {},
   "outputs": [],
   "source": [
    "plt.figure(figsize=(8,6))\n",
    "plt.imshow(Z.T, origin=\"lower\", \n",
    "           extent=[temp_grid.min(), temp_grid.max(), cl_grid.min(), cl_grid.max()],\n",
    "           aspect=\"auto\", cmap=\"inferno\")\n",
    "plt.colorbar(label=\"Predicted corrosion rate (mm/yr)\")\n",
    "plt.xlabel(\"Temperature (°C)\")\n",
    "plt.ylabel(\"Chloride (ppm)\")\n",
    "plt.title(\"Predicted Corrosion: Temperature × Chloride\")\n",
    "plt.savefig(\"../images/temperature_chloride_heatmap.png\", dpi=300, bbox_inches='tight')\n",
    "plt.show()"
   ]
  }
 ],
 "metadata": {
  "jupytext": {
   "cell_metadata_filter": "-all",
   "main_language": "python",
   "notebook_metadata_filter": "-all"
  },
  "language_info": {
   "name": "python"
  }
 },
 "nbformat": 4,
 "nbformat_minor": 5
}
